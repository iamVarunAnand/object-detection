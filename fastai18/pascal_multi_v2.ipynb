{
 "cells": [
  {
   "cell_type": "code",
   "execution_count": 106,
   "metadata": {},
   "outputs": [],
   "source": [
    "# import the necessary packages\n",
    "from matplotlib import patches, patheffects\n",
    "from PIL import Image\n",
    "import matplotlib.pyplot as plt\n",
    "import pandas as pd\n",
    "import json\n",
    "import os"
   ]
  },
  {
   "cell_type": "code",
   "execution_count": 103,
   "metadata": {},
   "outputs": [],
   "source": [
    "PASCAL_TRAIN_PATH = \"/home/varun/datasets/voc07/train\"\n",
    "PASCAL_TEST_PATH = \"home/varun/datasets/voc07/test\"\n",
    "JPEGS_PATH = os.path.sep.join([PASCAL_TRAIN_PATH, \"JPEGImages\"])\n",
    "JSON_ANNOS_PATH = os.path.sep.join([PASCAL_TRAIN_PATH, \"train07.json\"])\n",
    "\n",
    "IMGS, ANNOS, CATEGS = \"images\", \"annotations\", \"categories\"\n",
    "FNAME, ID, IMG_ID, CATEG_ID, BBOX = \"file_name\", \"id\", \"image_id\", \"category_id\", \"bbox\""
   ]
  },
  {
   "cell_type": "code",
   "execution_count": 51,
   "metadata": {},
   "outputs": [],
   "source": [
    "train_json = json.load(open(JSON_ANNOS_PATH, \"r\"))"
   ]
  },
  {
   "cell_type": "code",
   "execution_count": 52,
   "metadata": {},
   "outputs": [],
   "source": [
    "# categs: dict{categ_id -> categ_name}\n",
    "categs = {categ[ID] : categ['name'] for categ in train_json[CATEGS]}\n",
    "\n",
    "# fnames: dict{img_id -> img_filename}\n",
    "fnames = {img[ID] : img[FNAME] for img in train_json[IMGS]}\n",
    "\n",
    "# img_ids: list[img_ids]\n",
    "img_ids = [img[ID] for img in train_json[IMGS]]"
   ]
  },
  {
   "cell_type": "code",
   "execution_count": 105,
   "metadata": {},
   "outputs": [
    {
     "name": "stdout",
     "output_type": "stream",
     "text": [
      "[INFO] total number of images in the training set: 2501\n"
     ]
    }
   ],
   "source": [
    "# initialize a dict to store the annotations: {img_id -> [annotations]}\n",
    "train_annos = {}\n",
    "\n",
    "# loop through the annotations in the json file\n",
    "for anno in train_json[ANNOS]:\n",
    "    # check if the annotation is to be ignored     \n",
    "    if not anno[\"ignore\"]:\n",
    "        # add the annotation to the appropriate img_id in the dictionary\n",
    "        L = train_annos.get(anno[IMG_ID], [])\n",
    "        L.append((anno[CATEG_ID], anno[BBOX]))\n",
    "        train_annos[anno[IMG_ID]] = L\n",
    "\n",
    "# print the total number of images with annotations\n",
    "print(f\"[INFO] total number of images in the training set: {len(train_annos)}\")"
   ]
  },
  {
   "cell_type": "code",
   "execution_count": 100,
   "metadata": {},
   "outputs": [],
   "source": [
    "def draw_outline(o, lw):\n",
    "    o.set_path_effects([patheffects.Stroke(linewidth = lw, foreground = 'black'), patheffects.Normal()])\n",
    "\n",
    "def visualize(ax, img, annos, figsize = None):    \n",
    "    # display the image\n",
    "    ax.imshow(img)   \n",
    "    \n",
    "    # loop through the annotations\n",
    "    for anno in annos:\n",
    "        # destructure the annotation         \n",
    "        categ, bbox = anno\n",
    "        \n",
    "        # draw the bbox and outline it\n",
    "        patch = ax.add_patch(patches.Rectangle(bbox[:2], *bbox[-2:], fill = False, edgecolor = 'white', lw = 2))\n",
    "        draw_outline(patch, 4)\n",
    "        \n",
    "        # write the class label and outline it\n",
    "        text = ax.text(*bbox[:2], categs[categ], verticalalignment = 'top', color = 'white', fontsize = 14, weight = 'bold')\n",
    "        draw_outline(text, 1)\n",
    "\n",
    "def montage(ids):\n",
    "    # assert that the length of ids is 16\n",
    "    assert len(ids) == 16, \"Length of ids must be 16.\"\n",
    "    \n",
    "    # initialize a matplotlib figure\n",
    "    fig, ax = plt.subplots(4, 4, figsize = (16, 16))\n",
    "\n",
    "    # loop through the imgs and visualize them\n",
    "    for i in range(4):\n",
    "        for j in range(4):\n",
    "            # read the image from disk\n",
    "            img = Image.open(os.path.sep.join([JPEGS_PATH, fnames[ids[i * 4 + j]]]))\n",
    "\n",
    "            # visualize the image\n",
    "            visualize(ax[i, j], img, train_annos[ids[i * 4 + j]])"
   ]
  },
  {
   "cell_type": "code",
   "execution_count": 114,
   "metadata": {},
   "outputs": [],
   "source": [
    "# initialize an empty dataframe\n",
    "df = pd.DataFrame(train_annos, columns = [\"img_id\", \"filename\", \"annotations\"])\n",
    "\n",
    "# loop through the annotations\n",
    "for i, (img_id, anno) in enumerate(train_annos.items()):\n",
    "    df.loc[i] = [img_id, fnames[img_id], anno]\n",
    "\n",
    "df.to_csv(\"../pascal/data/voc07_obj_detect.csv\", index = False)"
   ]
  }
 ],
 "metadata": {
  "kernelspec": {
   "display_name": "Python 3",
   "language": "python",
   "name": "python3"
  },
  "language_info": {
   "codemirror_mode": {
    "name": "ipython",
    "version": 3
   },
   "file_extension": ".py",
   "mimetype": "text/x-python",
   "name": "python",
   "nbconvert_exporter": "python",
   "pygments_lexer": "ipython3",
   "version": "3.8.2"
  }
 },
 "nbformat": 4,
 "nbformat_minor": 4
}
